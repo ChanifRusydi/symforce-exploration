{
 "cells": [
  {
   "cell_type": "markdown",
   "metadata": {},
   "source": [
    "# Symforce Tutorial"
   ]
  },
  {
   "cell_type": "markdown",
   "metadata": {},
   "source": [
    "### Notebook ini adalah tutorial untuk menggunakan Symforce. Tutorial ini akan membahas tentang:\n",
    "- Instalasi Symforce menggunakan pip via bash command\n",
    "- contoh sederhana pemodelan dan penyelesaian masalah pengoptimalan dengan SymForce. Dalam contoh ini robot bergerak melalui bidang 2D dan tujuannya adalah untuk memperkirakan posenya pada beberapa langkah waktu dengan pengukuran kebisingan.\n"
   ]
  },
  {
   "cell_type": "markdown",
   "metadata": {},
   "source": [
    "<!-- ![Robot Heading Ilustration](https://symforce.org/docs/static/images/robot_2d_localization/problem_setup.png) -->\n",
    "<img src=\"https://symforce.org/docs/static/images/robot_2d_localization/problem_setup.png\" alt=\"Robot Heading Ilustration\" width=\"400\"/>"
   ]
  },
  {
   "cell_type": "markdown",
   "metadata": {},
   "source": [
    "#### Instalasi Symforce menggunakan pip via bash command\n",
    "*Note : tested menggunakan Github Codespace dengan Ubuntu 20.04*\n"
   ]
  },
  {
   "cell_type": "code",
   "execution_count": 26,
   "metadata": {},
   "outputs": [
    {
     "name": "stdout",
     "output_type": "stream",
     "text": [
      "Requirement already satisfied: symforce in /usr/local/python/3.10.4/lib/python3.10/site-packages (0.7.0)\n",
      "Requirement already satisfied: skymarshal==0.7.0 in /usr/local/python/3.10.4/lib/python3.10/site-packages (from symforce) (0.7.0)\n",
      "Requirement already satisfied: jinja2 in /home/codespace/.local/lib/python3.10/site-packages (from symforce) (3.1.2)\n",
      "Requirement already satisfied: numpy in /home/codespace/.local/lib/python3.10/site-packages (from symforce) (1.23.4)\n",
      "Requirement already satisfied: black in /usr/local/python/3.10.4/lib/python3.10/site-packages (from symforce) (22.10.0)\n",
      "Requirement already satisfied: graphviz in /usr/local/python/3.10.4/lib/python3.10/site-packages (from symforce) (0.20.1)\n",
      "Requirement already satisfied: clang-format in /usr/local/python/3.10.4/lib/python3.10/site-packages (from symforce) (15.0.4)\n",
      "Requirement already satisfied: sympy~=1.11.1 in /usr/local/python/3.10.4/lib/python3.10/site-packages (from symforce) (1.11.1)\n",
      "Requirement already satisfied: scipy in /home/codespace/.local/lib/python3.10/site-packages (from symforce) (1.9.3)\n",
      "Requirement already satisfied: symforce-sym==0.7.0 in /usr/local/python/3.10.4/lib/python3.10/site-packages (from symforce) (0.7.0)\n",
      "Requirement already satisfied: argh in /usr/local/python/3.10.4/lib/python3.10/site-packages (from skymarshal==0.7.0->symforce) (0.26.2)\n",
      "Requirement already satisfied: ply in /usr/local/python/3.10.4/lib/python3.10/site-packages (from skymarshal==0.7.0->symforce) (3.11)\n",
      "Requirement already satisfied: six in /home/codespace/.local/lib/python3.10/site-packages (from skymarshal==0.7.0->symforce) (1.16.0)\n",
      "Requirement already satisfied: mpmath>=0.19 in /usr/local/python/3.10.4/lib/python3.10/site-packages (from sympy~=1.11.1->symforce) (1.2.1)\n",
      "Requirement already satisfied: pathspec>=0.9.0 in /usr/local/python/3.10.4/lib/python3.10/site-packages (from black->symforce) (0.10.2)\n",
      "Requirement already satisfied: platformdirs>=2 in /home/codespace/.local/lib/python3.10/site-packages (from black->symforce) (2.5.4)\n",
      "Requirement already satisfied: mypy-extensions>=0.4.3 in /usr/local/python/3.10.4/lib/python3.10/site-packages (from black->symforce) (0.4.3)\n",
      "Requirement already satisfied: click>=8.0.0 in /usr/local/python/3.10.4/lib/python3.10/site-packages (from black->symforce) (8.1.3)\n",
      "Requirement already satisfied: tomli>=1.1.0 in /home/codespace/.local/lib/python3.10/site-packages (from black->symforce) (2.0.1)\n",
      "Requirement already satisfied: MarkupSafe>=2.0 in /home/codespace/.local/lib/python3.10/site-packages (from jinja2->symforce) (2.1.1)\n"
     ]
    }
   ],
   "source": [
    "%%bash\n",
    "pip install symforce"
   ]
  },
  {
   "cell_type": "markdown",
   "metadata": {},
   "source": []
  },
  {
   "cell_type": "code",
   "execution_count": 7,
   "metadata": {},
   "outputs": [],
   "source": [
    "import symforce.symbolic as sym\n",
    "import numpy as np"
   ]
  },
  {
   "cell_type": "code",
   "execution_count": 3,
   "metadata": {},
   "outputs": [],
   "source": [
    "pose =sym.Pose2(\n",
    "    t=sym.V2.symbolic('t'),\n",
    "    R=sym.Rot2.symbolic('R')\n",
    ")\n",
    "landmark= sym.V2.symbolic('L')"
   ]
  },
  {
   "cell_type": "code",
   "execution_count": 4,
   "metadata": {},
   "outputs": [],
   "source": [
    "landmark_body=pose.inverse() * landmark     "
   ]
  },
  {
   "cell_type": "code",
   "execution_count": 5,
   "metadata": {},
   "outputs": [
    {
     "data": {
      "text/plain": [
       "[-L0*R_im + L1*R_re + t0*R_im - t1*R_re, -R_re, -R_im]\n",
       "[-L0*R_re - L1*R_im + t0*R_re + t1*R_im, R_im, -R_re]"
      ]
     },
     "metadata": {},
     "output_type": "display_data"
    }
   ],
   "source": [
    "landmark_body.jacobian(pose)"
   ]
  },
  {
   "cell_type": "code",
   "execution_count": 6,
   "metadata": {},
   "outputs": [
    {
     "data": {
      "text/plain": [
       "atan2(L0*R_re + L1*R_im - (t0*R_re + t1*R_im), -L0*R_im + L1*R_re - (-t0*R_im + t1*R_re))"
      ]
     },
     "execution_count": 6,
     "metadata": {},
     "output_type": "execute_result"
    }
   ],
   "source": [
    "sym.atan2(landmark_body[0], landmark_body[1])"
   ]
  },
  {
   "cell_type": "code",
   "execution_count": 7,
   "metadata": {},
   "outputs": [
    {
     "data": {
      "text/plain": [
       "sqrt(x0**2 + x1**2 + x2**2)"
      ]
     },
     "execution_count": 7,
     "metadata": {},
     "output_type": "execute_result"
    }
   ],
   "source": [
    "sym.V3.symbolic('x').norm(epsilon=sym.epsilon())"
   ]
  },
  {
   "cell_type": "code",
   "execution_count": 1,
   "metadata": {},
   "outputs": [],
   "source": [
    "import symforce\n",
    "try :\n",
    "    symforce.set_epsilon_to_symbol()\n",
    "except AlreadyUsedEpsilon:\n",
    "    pass"
   ]
  },
  {
   "cell_type": "markdown",
   "metadata": {},
   "source": [
    "Keterangan"
   ]
  },
  {
   "cell_type": "code",
   "execution_count": 5,
   "metadata": {},
   "outputs": [],
   "source": [
    "from symforce.values import Values"
   ]
  },
  {
   "cell_type": "code",
   "execution_count": 3,
   "metadata": {},
   "outputs": [],
   "source": [
    "num_poses=3\n",
    "num_landmarks=3"
   ]
  },
  {
   "cell_type": "code",
   "execution_count": 8,
   "metadata": {},
   "outputs": [],
   "source": [
    "initial_values=Values(\n",
    "    poses=[sym.Pose2.identity()] * num_poses,\n",
    "    landmarks=[sym.V2(-2, 2), sym.V2(1, -3), sym.V2(5, 2)],\n",
    "    distances=[1.7, 1.4],\n",
    "    angles=np.deg2rad([[145, 335, 55], [185, 310, 70], [215, 310, 70]]).tolist(),\n",
    "    epsilon=sym.numeric_epsilon,\n",
    ")"
   ]
  },
  {
   "cell_type": "code",
   "execution_count": 9,
   "metadata": {},
   "outputs": [],
   "source": [
    "def bearing_residual(\n",
    "    pose: sym.Pose2, landmark: sym.V2, angle: sym.Scalar, epsilon: sym.Scalar\n",
    ") -> sym.V1:\n",
    "    t_body = pose.inverse() * landmark\n",
    "    predicted_angle = sym.atan2(t_body[1], t_body[0], epsilon=epsilon)\n",
    "    return sym.V1(sym.wrap_angle(predicted_angle - angle))"
   ]
  },
  {
   "cell_type": "code",
   "execution_count": 10,
   "metadata": {},
   "outputs": [],
   "source": [
    "def odometry_residual(\n",
    "    pose_a: sym.Pose2, pose_b: sym.Pose2, dist: sym.Scalar, epsilon: sym.Scalar\n",
    ") -> sym.V1:\n",
    "    return sym.V1((pose_b.t - pose_a.t).norm(epsilon=epsilon) - dist)"
   ]
  },
  {
   "cell_type": "code",
   "execution_count": 11,
   "metadata": {},
   "outputs": [],
   "source": [
    "from symforce.opt.factor import Factor\n",
    "\n",
    "factors = []\n",
    "\n",
    "# Bearing factors\n",
    "for i in range(num_poses):\n",
    "    for j in range(num_landmarks):\n",
    "        factors.append(Factor(\n",
    "            residual=bearing_residual,\n",
    "            keys=[f\"poses[{i}]\", f\"landmarks[{j}]\", f\"angles[{i}][{j}]\", \"epsilon\"],\n",
    "        ))\n",
    "\n",
    "# Odometry factors\n",
    "for i in range(num_poses - 1):\n",
    "    factors.append(Factor(\n",
    "        residual=odometry_residual,\n",
    "        keys=[f\"poses[{i}]\", f\"poses[{i + 1}]\", f\"distances[{i}]\", \"epsilon\"],\n",
    "    ))\n",
    "import warnings\n",
    "warnings.filterwarnings(\"ignore\")"
   ]
  },
  {
   "cell_type": "code",
   "execution_count": 12,
   "metadata": {},
   "outputs": [],
   "source": [
    "from symforce.opt.optimizer import Optimizer\n",
    "\n",
    "optimizer = Optimizer(\n",
    "    factors=factors,\n",
    "    optimized_keys=[f\"poses[{i}]\" for i in range(num_poses)],\n",
    "    # So that we save more information about each iteration, to visualize later:\n",
    "    debug_stats=True,\n",
    ")"
   ]
  },
  {
   "cell_type": "code",
   "execution_count": 13,
   "metadata": {},
   "outputs": [
    {
     "name": "stdout",
     "output_type": "stream",
     "text": [
      "[2022-12-01 07:26:56.623] [info] LM<sym::Optimize> [iter    0] lambda: 1.000e+00, error prev/linear/new: 5.143/2.872/2.203, rel reduction: 0.57166\n",
      "[2022-12-01 07:26:56.623] [info] LM<sym::Optimize> [iter    1] lambda: 2.500e-01, error prev/linear/new: 2.203/0.087/0.074, rel reduction: 0.96655\n",
      "[2022-12-01 07:26:56.624] [info] LM<sym::Optimize> [iter    2] lambda: 6.250e-02, error prev/linear/new: 0.074/0.006/0.006, rel reduction: 0.91401\n",
      "[2022-12-01 07:26:56.624] [info] LM<sym::Optimize> [iter    3] lambda: 1.562e-02, error prev/linear/new: 0.006/0.001/0.001, rel reduction: 0.90323\n",
      "[2022-12-01 07:26:56.625] [info] LM<sym::Optimize> [iter    4] lambda: 3.906e-03, error prev/linear/new: 0.001/0.000/0.000, rel reduction: 0.60930\n",
      "[2022-12-01 07:26:56.626] [info] LM<sym::Optimize> [iter    5] lambda: 9.766e-04, error prev/linear/new: 0.000/0.000/0.000, rel reduction: 0.08144\n",
      "[2022-12-01 07:26:56.626] [info] LM<sym::Optimize> [iter    6] lambda: 2.441e-04, error prev/linear/new: 0.000/0.000/0.000, rel reduction: 0.00012\n",
      "[2022-12-01 07:26:56.627] [info] LM<sym::Optimize> [iter    7] lambda: 6.104e-05, error prev/linear/new: 0.000/0.000/0.000, rel reduction: 0.00000\n"
     ]
    }
   ],
   "source": [
    "result = optimizer.optimize(initial_values)"
   ]
  },
  {
   "cell_type": "code",
   "execution_count": 14,
   "metadata": {},
   "outputs": [
    {
     "data": {
      "image/png": "[encoded data removed]",
      "text/plain": [
       "<Figure size 640x480 with 2 Axes>"
      ]
     },
     "metadata": {},
     "output_type": "display_data"
    }
   ],
   "source": [
    "from symforce.examples.robot_2d_localization.plotting import plot_solution\n",
    "plot_solution(optimizer, result)"
   ]
  },
  {
   "cell_type": "markdown",
   "metadata": {},
   "source": [
    "### Generate C++ Code\n",
    "Untuk setiap faktor, SymForce mengintrospeksi bentuk fungsi simbolik, melewati input simbolik untuk membuat ekspresi output, secara otomatis menghitung jacobian dari ekspresi output tersebut dengan variabel yang dioptimalkan, dan menghasilkan kode runtime cepat untuk variabel tersebut.\n",
    "Class Codegen adalah alat utama untuk menghasilkan kode runtime dari ekspresi simbolik. Dalam hal ini, kami meneruskan fungsi residual_bearing dan mengonfigurasinya untuk menghasilkan kode C++:"
   ]
  },
  {
   "cell_type": "code",
   "execution_count": 15,
   "metadata": {},
   "outputs": [],
   "source": [
    "from symforce.codegen import Codegen, CppConfig\n",
    "\n",
    "codegen = Codegen.function(bearing_residual, config=CppConfig())"
   ]
  },
  {
   "cell_type": "code",
   "execution_count": 16,
   "metadata": {},
   "outputs": [],
   "source": [
    "codegen_linearization = codegen.with_linearization(\n",
    "    which_args=[\"pose\"]\n",
    ")\n",
    "import warnings\n",
    "warnings.filterwarnings(\"ignore\")"
   ]
  },
  {
   "cell_type": "code",
   "execution_count": null,
   "metadata": {},
   "outputs": [],
   "source": [
    "metadata = codegen_linearization.generate_function()\n",
    "# with open('coba.cpp', 'w') as f:\n",
    "#     f.write(metadata.generated_files[0])\n",
    "#     f.close()\n",
    "# with open(metadata.generated_files[0]).read() as f:\n",
    "#     lines = f.readlines()\n",
    "#     lines = [l for l in lines if \"ROW\" in l]\n",
    "#     with open(\"out.txt\", \"w\") as f1:\n",
    "#         f1.writelines(lines)\n",
    "# print(type(metadata.generated_files[0]))\n",
    "code=open(metadata.generated_files[0]).read()\n",
    "with open('coba.cpp', 'w') as f:\n",
    "    f.write(code)\n",
    "# print(open(metadata.generated_files[0]).read())"
   ]
  },
  {
   "cell_type": "code",
   "execution_count": 25,
   "metadata": {},
   "outputs": [
    {
     "name": "stderr",
     "output_type": "stream",
     "text": [
      "--2022-12-01 07:49:41--  https://raw.githubusercontent.com/symforce-org/symforce/main/gen/cpp/sym/pose2.h\n",
      "Resolving raw.githubusercontent.com (raw.githubusercontent.com)... 185.199.109.133, 185.199.110.133, 185.199.111.133, ...\n",
      "Connecting to raw.githubusercontent.com (raw.githubusercontent.com)|185.199.109.133|:443... connected.\n",
      "HTTP request sent, awaiting response... 200 OK\n",
      "Length: 8015 (7.8K) [text/plain]\n",
      "Saving to: ‘./sym/pose2.h’\n",
      "\n",
      "     0K .......                                               100% 21.2M=0s\n",
      "\n",
      "2022-12-01 07:49:42 (21.2 MB/s) - ‘./sym/pose2.h’ saved [8015/8015]\n",
      "\n"
     ]
    }
   ],
   "source": [
    "%%bash\n",
    "wget https://raw.githubusercontent.com/symforce-org/symforce/main/gen/cpp/sym/pose2.h -P ./sym"
   ]
  }
 ],
 "metadata": {
  "kernelspec": {
   "display_name": "Python 3.10.4 64-bit",
   "language": "python",
   "name": "python3"
  },
  "language_info": {
   "codemirror_mode": {
    "name": "ipython",
    "version": 3
   },
   "file_extension": ".py",
   "mimetype": "text/x-python",
   "name": "python",
   "nbconvert_exporter": "python",
   "pygments_lexer": "ipython3",
   "version": "3.10.4"
  },
  "orig_nbformat": 4,
  "vscode": {
   "interpreter": {
    "hash": "3ad933181bd8a04b432d3370b9dc3b0662ad032c4dfaa4e4f1596c548f763858"
   }
  }
 },
 "nbformat": 4,
 "nbformat_minor": 2
}
