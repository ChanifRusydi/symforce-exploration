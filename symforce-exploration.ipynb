{
 "cells": [
  {
   "cell_type": "code",
   "execution_count": 1,
   "metadata": {},
   "outputs": [
    {
     "name": "stdout",
     "output_type": "stream",
     "text": [
      "Collecting symforce\n",
      "  Downloading symforce-0.7.0-cp39-cp39-macosx_11_0_arm64.whl (3.4 MB)\n",
      "Collecting sympy~=1.11.1\n",
      "  Downloading sympy-1.11.1-py3-none-any.whl (6.5 MB)\n",
      "Collecting symforce-sym==0.7.0\n",
      "  Downloading symforce_sym-0.7.0-py3-none-any.whl (70 kB)\n",
      "Requirement already satisfied: jinja2 in /Users/chanifrusydi/miniconda3/lib/python3.9/site-packages (from symforce) (3.0.3)\n",
      "Requirement already satisfied: scipy in /Users/chanifrusydi/miniconda3/lib/python3.9/site-packages (from symforce) (1.7.3)\n",
      "Requirement already satisfied: numpy in /Users/chanifrusydi/miniconda3/lib/python3.9/site-packages (from symforce) (1.22.3)\n",
      "Collecting skymarshal==0.7.0\n",
      "  Downloading skymarshal-0.7.0-py3-none-any.whl (82 kB)\n",
      "Collecting black\n",
      "  Downloading black-22.10.0-cp39-cp39-macosx_11_0_arm64.whl (1.2 MB)\n",
      "Collecting graphviz\n",
      "  Downloading graphviz-0.20.1-py3-none-any.whl (47 kB)\n",
      "Collecting clang-format\n",
      "  Downloading clang_format-15.0.4-py2.py3-none-macosx_10_9_universal2.whl (1.3 MB)\n",
      "Requirement already satisfied: six in /Users/chanifrusydi/miniconda3/lib/python3.9/site-packages (from skymarshal==0.7.0->symforce) (1.16.0)\n",
      "Collecting argh\n",
      "  Downloading argh-0.26.2-py2.py3-none-any.whl (30 kB)\n",
      "Collecting ply\n",
      "  Downloading ply-3.11-py2.py3-none-any.whl (49 kB)\n",
      "Collecting mpmath>=0.19\n",
      "  Downloading mpmath-1.2.1-py3-none-any.whl (532 kB)\n",
      "Collecting mypy-extensions>=0.4.3\n",
      "  Downloading mypy_extensions-0.4.3-py2.py3-none-any.whl (4.5 kB)\n",
      "Collecting pathspec>=0.9.0\n",
      "  Downloading pathspec-0.10.2-py3-none-any.whl (28 kB)\n",
      "Requirement already satisfied: click>=8.0.0 in /Users/chanifrusydi/miniconda3/lib/python3.9/site-packages (from black->symforce) (8.1.3)\n",
      "Requirement already satisfied: typing-extensions>=3.10.0.0 in /Users/chanifrusydi/miniconda3/lib/python3.9/site-packages (from black->symforce) (4.2.0)\n",
      "Requirement already satisfied: platformdirs>=2 in /Users/chanifrusydi/miniconda3/lib/python3.9/site-packages (from black->symforce) (2.5.2)\n",
      "Collecting tomli>=1.1.0\n",
      "  Downloading tomli-2.0.1-py3-none-any.whl (12 kB)\n",
      "Requirement already satisfied: MarkupSafe>=2.0 in /Users/chanifrusydi/miniconda3/lib/python3.9/site-packages (from jinja2->symforce) (2.1.1)\n",
      "Installing collected packages: tomli, ply, pathspec, mypy-extensions, mpmath, argh, sympy, symforce-sym, skymarshal, graphviz, clang-format, black, symforce\n",
      "Successfully installed argh-0.26.2 black-22.10.0 clang-format-15.0.4 graphviz-0.20.1 mpmath-1.2.1 mypy-extensions-0.4.3 pathspec-0.10.2 ply-3.11 skymarshal-0.7.0 symforce-0.7.0 symforce-sym-0.7.0 sympy-1.11.1 tomli-2.0.1\n"
     ]
    }
   ],
   "source": [
    "%%bash\n",
    "pip install symforce"
   ]
  },
  {
   "cell_type": "code",
   "execution_count": 2,
   "metadata": {},
   "outputs": [],
   "source": [
    "import symforce.symbolic as sym\n",
    "import numpy as np\n"
   ]
  },
  {
   "cell_type": "code",
   "execution_count": 6,
   "metadata": {},
   "outputs": [],
   "source": [
    "pose =sym.Pose2(\n",
    "    t=sym.V2.symbolic('t'),\n",
    "    R=sym.Rot2.symbolic('R')\n",
    ")\n",
    "landmark= sym.V2.symbolic('L')"
   ]
  },
  {
   "cell_type": "code",
   "execution_count": 8,
   "metadata": {},
   "outputs": [],
   "source": [
    "landmark_body=pose.inverse() * landmark     "
   ]
  },
  {
   "cell_type": "code",
   "execution_count": 10,
   "metadata": {},
   "outputs": [
    {
     "data": {
      "text/plain": [
       "[-L0*R_im + L1*R_re + t0*R_im - t1*R_re, -R_re, -R_im]\n",
       "[-L0*R_re - L1*R_im + t0*R_re + t1*R_im, R_im, -R_re]"
      ]
     },
     "metadata": {},
     "output_type": "display_data"
    }
   ],
   "source": [
    "landmark_body.jacobian(pose)"
   ]
  }
 ],
 "metadata": {
  "kernelspec": {
   "display_name": "Python 3.9.12 ('base')",
   "language": "python",
   "name": "python3"
  },
  "language_info": {
   "codemirror_mode": {
    "name": "ipython",
    "version": 3
   },
   "file_extension": ".py",
   "mimetype": "text/x-python",
   "name": "python",
   "nbconvert_exporter": "python",
   "pygments_lexer": "ipython3",
   "version": "3.9.12"
  },
  "orig_nbformat": 4,
  "vscode": {
   "interpreter": {
    "hash": "ec2c0f20409db2b93bef02ce6a1dba31e0bfed1fd8458b88e4f2b29b2b7d602a"
   }
  }
 },
 "nbformat": 4,
 "nbformat_minor": 2
}
